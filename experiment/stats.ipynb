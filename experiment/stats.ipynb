{
 "metadata": {
  "language_info": {
   "codemirror_mode": {
    "name": "ipython",
    "version": 3
   },
   "file_extension": ".py",
   "mimetype": "text/x-python",
   "name": "python",
   "nbconvert_exporter": "python",
   "pygments_lexer": "ipython3",
   "version": "3.8.5-final"
  },
  "orig_nbformat": 2,
  "kernelspec": {
   "name": "python3",
   "display_name": "Python 3",
   "language": "python"
  }
 },
 "nbformat": 4,
 "nbformat_minor": 2,
 "cells": [
  {
   "cell_type": "code",
   "execution_count": 27,
   "metadata": {},
   "outputs": [
    {
     "output_type": "error",
     "ename": "SyntaxError",
     "evalue": "invalid syntax (img.py, line 78)",
     "traceback": [
      "Traceback \u001b[1;36m(most recent call last)\u001b[0m:\n",
      "  File \u001b[0;32m\"C:\\Users\\trist\\miniconda3\\envs\\lunar\\lib\\site-packages\\IPython\\core\\interactiveshell.py\"\u001b[0m, line \u001b[0;32m3418\u001b[0m, in \u001b[0;35mrun_code\u001b[0m\n    exec(code_obj, self.user_global_ns, self.user_ns)\n",
      "\u001b[1;36m  File \u001b[1;32m\"<ipython-input-27-e35463c74238>\"\u001b[1;36m, line \u001b[1;32m8\u001b[1;36m, in \u001b[1;35m<module>\u001b[1;36m\u001b[0m\n\u001b[1;33m    from img import Image\u001b[0m\n",
      "\u001b[1;36m  File \u001b[1;32m\"c:\\Users\\trist\\sotcat_electron\\src\\sotcat_backend\\img.py\"\u001b[1;36m, line \u001b[1;32m78\u001b[0m\n\u001b[1;33m    ps.perc_r =\u001b[0m\n\u001b[1;37m               ^\u001b[0m\n\u001b[1;31mSyntaxError\u001b[0m\u001b[1;31m:\u001b[0m invalid syntax\n"
     ]
    }
   ],
   "source": [
    "import os\n",
    "import pathlib\n",
    "import sys\n",
    "\n",
    "wd = pathlib.Path(os.getcwd())\n",
    "sys.path.append(str(wd.parent))\n",
    "\n",
    "from img import Image\n",
    "# from img import Image\n",
    "\n",
    "repoRoot = wd.parents[2]\n",
    "dataDir = repoRoot.joinpath('data')\n",
    "\n",
    "sampleImgPath = dataDir.joinpath('sample.png')\n",
    "sys.path"
   ]
  }
 ]
}