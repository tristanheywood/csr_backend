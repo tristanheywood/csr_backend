{
 "metadata": {
  "language_info": {
   "codemirror_mode": {
    "name": "ipython",
    "version": 3
   },
   "file_extension": ".py",
   "mimetype": "text/x-python",
   "name": "python",
   "nbconvert_exporter": "python",
   "pygments_lexer": "ipython3",
   "version": "3.8.5-final"
  },
  "orig_nbformat": 2,
  "kernelspec": {
   "name": "python3",
   "display_name": "Python 3",
   "language": "python"
  }
 },
 "nbformat": 4,
 "nbformat_minor": 2,
 "cells": [
  {
   "cell_type": "code",
   "execution_count": 4,
   "metadata": {},
   "outputs": [],
   "source": [
    "import os\n",
    "import pathlib\n",
    "import sys\n",
    "from skimage import data, io, draw\n",
    "\n",
    "wd = pathlib.Path(os.getcwd())\n",
    "sys.path.append(str(wd.parent))\n",
    "\n",
    "# from img import Image\n",
    "# from img import Image\n",
    "\n",
    "repoRoot = wd.parents[2]\n",
    "dataDir = repoRoot.joinpath('data')\n",
    "\n",
    "sampleImgPath = dataDir.joinpath('sample.png')\n",
    "\n",
    "\n"
   ]
  },
  {
   "cell_type": "code",
   "execution_count": 7,
   "metadata": {},
   "outputs": [
    {
     "output_type": "execute_result",
     "data": {
      "text/plain": [
       "(1720, 2600, 3)"
      ]
     },
     "metadata": {},
     "execution_count": 7
    }
   ],
   "source": [
    "img = io.imread(sampleImgPath)\n",
    "img.shape"
   ]
  }
 ]
}